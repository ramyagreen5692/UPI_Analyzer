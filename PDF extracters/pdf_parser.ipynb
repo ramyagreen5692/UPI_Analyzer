{
 "cells": [
  {
   "cell_type": "code",
   "execution_count": 9,
   "id": "c8daa077",
   "metadata": {},
   "outputs": [],
   "source": [
    "import fitz  # PyMuPDF\n",
    "import re\n",
    "from datetime import datetime\n",
    "\n",
    "def extract_text_lines(filepath):\n",
    "    doc = fitz.open(filepath)\n",
    "    all_text = \"\"\n",
    "    for page in doc:\n",
    "        all_text += page.get_text()\n",
    "    lines = all_text.split(\"\\n\")\n",
    "    return lines\n",
    "\n",
    "def group_transaction_blocks(lines):\n",
    "    blocks = []\n",
    "    current_block = []\n",
    "    \n",
    "    for line in lines:\n",
    "        if re.match(r\"\\d{2} \\w{3} \\d{2}\", line):  # Looks like \"07 Dec 20\"\n",
    "            if current_block:\n",
    "                blocks.append(\" \".join(current_block))\n",
    "                current_block = []\n",
    "        current_block.append(line.strip())\n",
    "\n",
    "    if current_block:\n",
    "        blocks.append(\" \".join(current_block))\n",
    "\n",
    "    return blocks\n",
    "\n",
    "def parse_transaction_blocks(blocks):\n",
    "    transactions = []\n",
    "    for block in blocks:\n",
    "        # Extract date\n",
    "        date_match = re.search(r\"(\\d{2} \\w{3} \\d{2})\", block)\n",
    "        amount_match = re.search(r\"(\\d{1,3}(?:,\\d{3})*(?:\\.\\d{2}))\", block)\n",
    "\n",
    "        if date_match and amount_match:\n",
    "            try:\n",
    "                date = datetime.strptime(date_match.group(1), \"%d %b %y\").strftime(\"%Y-%m-%d\")\n",
    "                amount = float(amount_match.group(1).replace(\",\", \"\"))\n",
    "                description = block[:100]  # first 100 chars of block\n",
    "                tx_type = \"Credit\" if \"RETURN\" in block.upper() else \"Debit\"\n",
    "\n",
    "                transactions.append({\n",
    "                    \"date\": date,\n",
    "                    \"description\": description,\n",
    "                    \"amount\": amount,\n",
    "                    \"type\": tx_type\n",
    "                })\n",
    "            except Exception as e:\n",
    "                print(f\"Skipping block due to error: {e}\")\n",
    "\n",
    "    return transactions\n"
   ]
  },
  {
   "cell_type": "code",
   "execution_count": 10,
   "id": "26b7a1ac",
   "metadata": {},
   "outputs": [
    {
     "name": "stdout",
     "output_type": "stream",
     "text": [
      "{'date': '2020-12-01', 'description': '01 Dec 20 01 Dec 20 BALANCE FORWARD 264.19   UPI/033622092936/ 027601517870/ANBARASUMAHI@OKICICI/ M ', 'amount': 264.19, 'type': 'Debit'}\n",
      "{'date': '2020-12-02', 'description': '02 Dec 20 02 Dec 20 UPI/033715024645/ 1660155000036143/V.SUGANYABTECHIT@OKSBI/ SUGANYA V/KVBL0001660', 'amount': 1200.0, 'type': 'Credit'}\n",
      "{'date': '2020-12-03', 'description': '03 Dec 20 02 Dec 20 IMPS P2A CHARGES 021220   3.55 0.64   CGST @ 9.00%   0.32 0.32   SGST @ 9.00%   ', 'amount': 3.55, 'type': 'Debit'}\n",
      "{'date': '2020-12-07', 'description': '07 Dec 20 06 Dec 20 UPI/034118357655/ 027601517870/ANBARASUMAHI@OKICICI/ M ANBARASU/ICIC0000276/UPI/', 'amount': 2.0, 'type': 'Debit'}\n",
      "{'date': '2020-12-07', 'description': '07 Dec 20 07 Dec 20 UPI/034201041227/ 917020028084740/GOOG-PAYMENT@OKAXIS/ GOOGLEPAY/UTIB0000553/UPI', 'amount': 6.0, 'type': 'Debit'}\n",
      "{'date': '2020-12-07', 'description': '07 Dec 20 07 Dec 20 BALANCE FORWARD 6.29', 'amount': 6.29, 'type': 'Debit'}\n",
      "{'date': '2020-12-09', 'description': '09 Dec 20 09 Dec 20 UPI/034423154725/ 027601517870/ANBARASUMAHI@OKICICI/ M ANBARASU/ICIC0000276/CHUM', 'amount': 200.0, 'type': 'Credit'}\n",
      "{'date': '2020-12-14', 'description': '14 Dec 20 12 Dec 20 UPI/034714155860/ 027601517870/ANBARASUMAHI@OKICICI/ M ANBARASU/ICIC0000276/UPI/', 'amount': 200.0, 'type': 'Credit'}\n",
      "{'date': '2020-12-14', 'description': '14 Dec 20 13 Dec 20 IMPS/P2A/034808018610/1234567890 3222009900110168 APIBANKING/3222009900110168 AC', 'amount': 1.0, 'type': 'Debit'}\n",
      "{'date': '2020-12-15', 'description': '15 Dec 20 15 Dec 20 UPI/035023234494/ 027601517870/ANBARASUMAHI@OKICICI/ M ANBARASU/ICIC0000276/UPI/', 'amount': 2.0, 'type': 'Debit'}\n",
      "{'date': '2020-12-15', 'description': '15 Dec 20 15 Dec 20 BALANCE FORWARD 5,009.29', 'amount': 5009.29, 'type': 'Debit'}\n",
      "{'date': '2020-12-19', 'description': '19 Dec 20 19 Dec 20 UPI/035415848696/ EURONETGPAY/EURONETGPAY.PAY@ICICI/ICIC 0000001/ 0140SLEURONT/U', 'amount': 149.0, 'type': 'Debit'}\n",
      "{'date': '2020-12-23', 'description': '23 Dec 20 23 Dec 20 UPI/035823970044/ M ANBARASU/ANBARASUMAHI@OKICICI/ICIC00002 76/ 027601517870/CHU', 'amount': 200.0, 'type': 'Debit'}\n",
      "{'date': '2020-12-24', 'description': '24 Dec 20 24 Dec 20 UPI/035900974907/ 00000033292223767/ANBARASUMAHI@OKHDFCB ANK/ ANBARASU  M/SBIN00', 'amount': 200.0, 'type': 'Credit'}\n",
      "{'date': '2020-12-28', 'description': '28 Dec 20 26 Dec 20 UPI/036120797080/ TECHNOELECTRONICSSOLITIONS/9994560902@ OKBIZAXIS/UT 9180201108', 'amount': 2.0, 'type': 'Debit'}\n",
      "{'date': '2020-12-28', 'description': '28 Dec 20 27 Dec 20 UPI/036209662998/ RAZORPAY/RAZORPAY@ICICI/ICIC0000001/ 2060SLRAZORP/ULTIMATEHAUL', 'amount': 219.0, 'type': 'Debit'}\n",
      "{'date': '2020-12-31', 'description': '31 Dec 20 31 Dec 20 SAVING A/C CREDIT INTEREST  11.00  4,649.29 TOTAL 14,834.00 10,448.90 4,649.29 R', 'amount': 11.0, 'type': 'Debit'}\n"
     ]
    }
   ],
   "source": [
    "file_path = r\"D:\\UPI_Analyzer\\Data\\eStatement.pdf\"\n",
    "lines = extract_text_lines(file_path)\n",
    "blocks = group_transaction_blocks(lines)\n",
    "txns = parse_transaction_blocks(blocks)\n",
    "\n",
    "for txn in txns:\n",
    "    print(txn)\n"
   ]
  },
  {
   "cell_type": "code",
   "execution_count": 11,
   "id": "a2f000da",
   "metadata": {},
   "outputs": [],
   "source": [
    "txn[\"description\"] = re.sub(r'\\d{2} \\w{3} \\d{2}', '', txn[\"description\"])  # remove date from description\n",
    "txn[\"description\"] = txn[\"description\"].strip()"
   ]
  },
  {
   "cell_type": "code",
   "execution_count": 12,
   "id": "09dab435",
   "metadata": {},
   "outputs": [],
   "source": [
    "def categorize_transaction(description):\n",
    "    desc = description.lower()\n",
    "    if \"zomato\" in desc or \"swiggy\" in desc:\n",
    "        return \"Food & Dining\"\n",
    "    elif \"googlepay\" in desc or \"paytm\" in desc or \"upi\" in desc:\n",
    "        return \"UPI Payment\"\n",
    "    elif \"imps\" in desc or \"transfer\" in desc:\n",
    "        return \"Bank Transfer\"\n",
    "    elif \"interest\" in desc:\n",
    "        return \"Income\"\n",
    "    elif \"recharge\" in desc or \"electricity\" in desc:\n",
    "        return \"Utilities\"\n",
    "    elif \"amazon\" in desc or \"flipkart\" in desc:\n",
    "        return \"Shopping\"\n",
    "    else:\n",
    "        return \"Others\"\n"
   ]
  },
  {
   "cell_type": "code",
   "execution_count": 17,
   "id": "8aa1e1ed",
   "metadata": {},
   "outputs": [],
   "source": [
    "def get_llm_insight(transactions_summary):\n",
    "    openai.api_key = st.secrets[\"OPENAI_API_KEY\"]\n",
    "    prompt = f\"\"\"Analyze this transaction summary:\\n{transactions_summary}\\n\n",
    "    Give monthly savings %, unnecessary spending, and 3 smart tips for better finance management.\"\"\"\n",
    "    response = openai.ChatCompletion.create(\n",
    "        model=\"gpt-3.5-turbo\", messages=[{\"role\": \"user\", \"content\": prompt}]\n",
    "    )\n",
    "    return response['choices'][0]['message']['content']"
   ]
  },
  {
   "cell_type": "code",
   "execution_count": null,
   "id": "8c5686a8",
   "metadata": {},
   "outputs": [
    {
     "name": "stdout",
     "output_type": "stream",
     "text": [
      "{'date': '2020-12-31', 'description': 'SAVING A/C CREDIT INTEREST  11.00  4,649.29 TOTAL 14,834.00 10,448.90 4,649.29 R', 'amount': 11.0, 'type': 'Debit', 'category': 'Income'}\n"
     ]
    }
   ],
   "source": [
    "for txn in txns:\n",
    "    txn[\"category\"] = categorize_transaction(txn[\"description\"])\n"
   ]
  },
  {
   "cell_type": "code",
   "execution_count": 15,
   "id": "c930af5a",
   "metadata": {},
   "outputs": [
    {
     "name": "stdout",
     "output_type": "stream",
     "text": [
      "✅ Saved to parsed_transactions.csv\n"
     ]
    }
   ],
   "source": [
    "import pandas as pd\n",
    "\n",
    "df = pd.DataFrame(txns)\n",
    "df.to_csv(\"parsed_transactions.csv\", index=False)\n",
    "print(\"✅ Saved to parsed_transactions.csv\")"
   ]
  }
 ],
 "metadata": {
  "kernelspec": {
   "display_name": "Python 3",
   "language": "python",
   "name": "python3"
  },
  "language_info": {
   "codemirror_mode": {
    "name": "ipython",
    "version": 3
   },
   "file_extension": ".py",
   "mimetype": "text/x-python",
   "name": "python",
   "nbconvert_exporter": "python",
   "pygments_lexer": "ipython3",
   "version": "3.12.8"
  }
 },
 "nbformat": 4,
 "nbformat_minor": 5
}
